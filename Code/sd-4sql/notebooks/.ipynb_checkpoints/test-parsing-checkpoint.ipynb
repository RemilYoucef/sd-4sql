{
 "cells": [
  {
   "cell_type": "code",
   "execution_count": 1,
   "metadata": {},
   "outputs": [],
   "source": [
    "import os\n",
    "import sys\n",
    "sys.path.append(os.path.join(os.path.dirname(os.path.dirname(os.getcwd())),'sd-4sql\\\\packages'))\n",
    "from query_parser import *"
   ]
  },
  {
   "cell_type": "code",
   "execution_count": 4,
   "metadata": {},
   "outputs": [
    {
     "name": "stdout",
     "output_type": "stream",
     "text": [
      "SELECT ik FROM VT_Article ORDER BY datMod DESC\n"
     ]
    },
    {
     "data": {
      "text/plain": [
       "{'tables_from': ['vt_article'],\n",
       " 'tables_join': [],\n",
       " 'projections': ['ik'],\n",
       " 'atts_where': [],\n",
       " 'atts_groupby': [],\n",
       " 'atts_orderby': ['datmod'],\n",
       " 'atts_having': [],\n",
       " 'functions': []}"
      ]
     },
     "execution_count": 4,
     "metadata": {},
     "output_type": "execute_result"
    }
   ],
   "source": [
    "query1 = 'SELECT ik FROM VT_Article ORDER BY datMod DESC'\n",
    "print(query1)\n",
    "parsing(query1)"
   ]
  },
  {
   "cell_type": "markdown",
   "metadata": {},
   "source": [
    "### Query with Join clause and functions"
   ]
  },
  {
   "cell_type": "code",
   "execution_count": 5,
   "metadata": {},
   "outputs": [
    {
     "name": "stdout",
     "output_type": "stream",
     "text": [
      "select count(*) from fr.infologic.ventes.commandesfactures.modele.commande as cde inner join cde.cdeedi as cdeedi inner join cdeedi.messagerecu as m left join cdeedi.tiersediintegration as partedi left join cdeedi.cliliv as liva left join cdeedi.clilivintegration as partediinteg left join cdeedi.pdaintegration as pdainteg left join cdeedi.clicde as cdepar left join cde.repres1 as repres1 left join cdeedi.regleintegrationcde as regleinteg left join cde.degroup as degroup left join cde.transp as cdetransp left join cdeedi.cdeediglobal as cdeediglobal left join liva.operateur as opcli left join opcli.util as utopcli left join cde.siteexped.site as site where cdeedi.dossierinfo.dosres = dossieredi and cde.dossierinfo.dosres = dossiercde and cdeedi.typcdeedi in (types) and ((cde.datdepart >= datdepartmini or cde.datdepart is null) or (cde.typcde = 7 and cde.blocageedianomalie = 1 and cdeedi.datdepartmaxi >= datdepartmini)) and ((cde.datdepart <= datdepartmaxi or cde.datdepart is null) or (cde.typcde = 7 and cde.blocageedianomalie = 1 and cdeedi.datdepartmini <= datdepartmaxi)) and cde.typcde in (typescde) and cdeedi.etatcde in (etatcde)\n"
     ]
    },
    {
     "data": {
      "text/plain": [
       "{'tables_from': ['fr.infologic.ventes.commandesfactures.modele.commande'],\n",
       " 'tables_join': ['fr.infologic.ventes.commandesfactures.modele.commande.cdeedi',\n",
       "  'fr.infologic.ventes.commandesfactures.modele.commande.cdeedi.messagerecu',\n",
       "  'fr.infologic.ventes.commandesfactures.modele.commande.cdeedi.tiersediintegration',\n",
       "  'fr.infologic.ventes.commandesfactures.modele.commande.cdeedi.cliliv',\n",
       "  'fr.infologic.ventes.commandesfactures.modele.commande.cdeedi.clilivintegration',\n",
       "  'fr.infologic.ventes.commandesfactures.modele.commande.cdeedi.pdaintegration',\n",
       "  'fr.infologic.ventes.commandesfactures.modele.commande.cdeedi.clicde',\n",
       "  'fr.infologic.ventes.commandesfactures.modele.commande.repres1',\n",
       "  'fr.infologic.ventes.commandesfactures.modele.commande.cdeedi.regleintegrationcde',\n",
       "  'fr.infologic.ventes.commandesfactures.modele.commande.degroup',\n",
       "  'fr.infologic.ventes.commandesfactures.modele.commande.transp',\n",
       "  'fr.infologic.ventes.commandesfactures.modele.commande.cdeedi.cdeediglobal',\n",
       "  'fr.infologic.ventes.commandesfactures.modele.commande.cdeedi.cliliv.operateur',\n",
       "  'fr.infologic.ventes.commandesfactures.modele.commande.cdeedi.cliliv.operateur.util',\n",
       "  'fr.infologic.ventes.commandesfactures.modele.commande.siteexped.site'],\n",
       " 'projections': ['*'],\n",
       " 'atts_where': ['fr.infologic.ventes.commandesfactures.modele.commande.cdeedi.dossierinfo.dosres',\n",
       "  'fr.infologic.ventes.commandesfactures.modele.commande.dossierinfo.dosres',\n",
       "  'fr.infologic.ventes.commandesfactures.modele.commande.cdeedi.typcdeedi',\n",
       "  'fr.infologic.ventes.commandesfactures.modele.commande.datdepart',\n",
       "  'fr.infologic.ventes.commandesfactures.modele.commande.datdepart',\n",
       "  'fr.infologic.ventes.commandesfactures.modele.commande.typcde',\n",
       "  'fr.infologic.ventes.commandesfactures.modele.commande.blocageedianomalie',\n",
       "  'fr.infologic.ventes.commandesfactures.modele.commande.cdeedi.datdepartmaxi',\n",
       "  'fr.infologic.ventes.commandesfactures.modele.commande.datdepart',\n",
       "  'fr.infologic.ventes.commandesfactures.modele.commande.datdepart',\n",
       "  'fr.infologic.ventes.commandesfactures.modele.commande.typcde',\n",
       "  'fr.infologic.ventes.commandesfactures.modele.commande.blocageedianomalie',\n",
       "  'fr.infologic.ventes.commandesfactures.modele.commande.cdeedi.datdepartmini',\n",
       "  'fr.infologic.ventes.commandesfactures.modele.commande.typcde',\n",
       "  'fr.infologic.ventes.commandesfactures.modele.commande.cdeedi.etatcde'],\n",
       " 'atts_groupby': [],\n",
       " 'atts_orderby': [],\n",
       " 'atts_having': [],\n",
       " 'functions': ['count']}"
      ]
     },
     "execution_count": 5,
     "metadata": {},
     "output_type": "execute_result"
    }
   ],
   "source": [
    "query2 = 'select count(*) from fr.infologic.ventes.commandesfactures.modele.commande as cde inner join cde.cdeedi as cdeedi inner join cdeedi.messagerecu as m left join cdeedi.tiersediintegration as partedi left join cdeedi.cliliv as liva left join cdeedi.clilivintegration as partediinteg left join cdeedi.pdaintegration as pdainteg left join cdeedi.clicde as cdepar left join cde.repres1 as repres1 left join cdeedi.regleintegrationcde as regleinteg left join cde.degroup as degroup left join cde.transp as cdetransp left join cdeedi.cdeediglobal as cdeediglobal left join liva.operateur as opcli left join opcli.util as utopcli left join cde.siteexped.site as site where cdeedi.dossierinfo.dosres = dossieredi and cde.dossierinfo.dosres = dossiercde and cdeedi.typcdeedi in (types) and ((cde.datdepart >= datdepartmini or cde.datdepart is null) or (cde.typcde = 7 and cde.blocageedianomalie = 1 and cdeedi.datdepartmaxi >= datdepartmini)) and ((cde.datdepart <= datdepartmaxi or cde.datdepart is null) or (cde.typcde = 7 and cde.blocageedianomalie = 1 and cdeedi.datdepartmini <= datdepartmaxi)) and cde.typcde in (typescde) and cdeedi.etatcde in (etatcde)'\n",
    "print(query2)\n",
    "parsing(query2)"
   ]
  },
  {
   "cell_type": "markdown",
   "metadata": {},
   "source": [
    "### Nested Query"
   ]
  },
  {
   "cell_type": "code",
   "execution_count": 6,
   "metadata": {},
   "outputs": [
    {
     "name": "stdout",
     "output_type": "stream",
     "text": [
      "select bp from fr.infologic.ventes.commandesfactures.modele.histbonlivposition as bp join bp.bonliv as bonliv where bp.position.bordereau.dossierinfo.dosres =0 and bonliv.datdepart <=0 and bonliv.datdepart >=0 and bp.typbordereau >0 and bp.typbordereau in ( select max(b.typbordereau) from fr.infologic.ventes.commandesfactures.modele.histbonlivposition as b join b.bonliv as a where a.ik = bonliv.ik ) and bonliv.transp in(transportlist) order by bonliv.transp.ik, bonliv.degroup.ik, bonliv.degroup2.ik, bonliv.degroup3.ik\n"
     ]
    },
    {
     "data": {
      "text/plain": [
       "{'tables_from': ['fr.infologic.ventes.commandesfactures.modele.histbonlivposition',\n",
       "  'fr.infologic.ventes.commandesfactures.modele.histbonlivposition'],\n",
       " 'tables_join': ['fr.infologic.ventes.commandesfactures.modele.histbonlivposition.bonliv',\n",
       "  'fr.infologic.ventes.commandesfactures.modele.histbonlivposition.bonliv'],\n",
       " 'projections': ['fr.infologic.ventes.commandesfactures.modele.histbonlivposition',\n",
       "  'fr.infologic.ventes.commandesfactures.modele.histbonlivposition.typbordereau'],\n",
       " 'atts_where': ['fr.infologic.ventes.commandesfactures.modele.histbonlivposition.position.bordereau.dossierinfo.dosres',\n",
       "  'fr.infologic.ventes.commandesfactures.modele.histbonlivposition.bonliv.datdepart',\n",
       "  'fr.infologic.ventes.commandesfactures.modele.histbonlivposition.bonliv.datdepart',\n",
       "  'fr.infologic.ventes.commandesfactures.modele.histbonlivposition.typbordereau',\n",
       "  'fr.infologic.ventes.commandesfactures.modele.histbonlivposition.typbordereau',\n",
       "  'fr.infologic.ventes.commandesfactures.modele.histbonlivposition.bonliv.ik',\n",
       "  'fr.infologic.ventes.commandesfactures.modele.histbonlivposition.bonliv.ik',\n",
       "  'fr.infologic.ventes.commandesfactures.modele.histbonlivposition.bonliv.transp'],\n",
       " 'atts_groupby': [],\n",
       " 'atts_orderby': ['fr.infologic.ventes.commandesfactures.modele.histbonlivposition.bonliv.transp.ik',\n",
       "  'fr.infologic.ventes.commandesfactures.modele.histbonlivposition.bonliv.degroup.ik',\n",
       "  'fr.infologic.ventes.commandesfactures.modele.histbonlivposition.bonliv.degroup2.ik',\n",
       "  'fr.infologic.ventes.commandesfactures.modele.histbonlivposition.bonliv.degroup3.ik'],\n",
       " 'atts_having': [],\n",
       " 'functions': ['max']}"
      ]
     },
     "execution_count": 6,
     "metadata": {},
     "output_type": "execute_result"
    }
   ],
   "source": [
    "query3 = 'select bp from fr.infologic.ventes.commandesfactures.modele.histbonlivposition as bp join bp.bonliv as bonliv where bp.position.bordereau.dossierinfo.dosres =0 and bonliv.datdepart <=0 and bonliv.datdepart >=0 and bp.typbordereau >0 and bp.typbordereau in ( select max(b.typbordereau) from fr.infologic.ventes.commandesfactures.modele.histbonlivposition as b join b.bonliv as a where a.ik = bonliv.ik ) and bonliv.transp in(transportlist) order by bonliv.transp.ik, bonliv.degroup.ik, bonliv.degroup2.ik, bonliv.degroup3.ik'\n",
    "print(query3)\n",
    "parsing(query3)"
   ]
  }
 ],
 "metadata": {
  "kernelspec": {
   "display_name": "Python 3",
   "language": "python",
   "name": "python3"
  },
  "language_info": {
   "codemirror_mode": {
    "name": "ipython",
    "version": 3
   },
   "file_extension": ".py",
   "mimetype": "text/x-python",
   "name": "python",
   "nbconvert_exporter": "python",
   "pygments_lexer": "ipython3",
   "version": "3.8.5"
  }
 },
 "nbformat": 4,
 "nbformat_minor": 4
}
