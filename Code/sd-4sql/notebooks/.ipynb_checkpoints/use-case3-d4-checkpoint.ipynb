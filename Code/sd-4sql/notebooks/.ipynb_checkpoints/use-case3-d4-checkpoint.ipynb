{
 "cells": [
  {
   "cell_type": "code",
   "execution_count": null,
   "metadata": {},
   "outputs": [],
   "source": [
    "import os\n",
    "import sys\n",
    "import numpy as np\n",
    "import pandas as pd\n",
    "import pysubgroup as ps\n",
    "import pickle\n",
    "import math\n",
    "from sklearn.tree import DecisionTreeClassifier\n",
    "from sklearn.tree import export_text\n",
    "from sklearn import tree"
   ]
  },
  {
   "cell_type": "code",
   "execution_count": null,
   "metadata": {},
   "outputs": [],
   "source": [
    "sys.path.append(os.path.join(os.path.dirname(os.getcwd()), 'SDQL'))"
   ]
  },
  {
   "cell_type": "code",
   "execution_count": null,
   "metadata": {},
   "outputs": [],
   "source": [
    "saved_path = os.path.join(os.path.dirname(os.getcwd()), 'Saved Data\\\\')"
   ]
  },
  {
   "cell_type": "code",
   "execution_count": null,
   "metadata": {},
   "outputs": [],
   "source": [
    "from sd_analysis import *\n",
    "from subgroup_discovery import *\n",
    "from sd_postprocessing import *"
   ]
  },
  {
   "cell_type": "code",
   "execution_count": null,
   "metadata": {},
   "outputs": [],
   "source": [
    "import matplotlib.pyplot as plt\n",
    "import matplotlib\n",
    "import seaborn as sns\n",
    "sns.set(color_codes=True)\n",
    "%matplotlib inline\n",
    "plt.rcParams[\"figure.figsize\"] = [16, 6]"
   ]
  },
  {
   "cell_type": "code",
   "execution_count": null,
   "metadata": {},
   "outputs": [],
   "source": [
    "import warnings\n",
    "warnings.filterwarnings(\"ignore\")\n",
    "from matplotlib.axes._axes import _log as matplotlib_axes_logger\n",
    "matplotlib_axes_logger.setLevel('ERROR')"
   ]
  },
  {
   "cell_type": "code",
   "execution_count": null,
   "metadata": {},
   "outputs": [],
   "source": [
    "requetes = pd.read_csv(saved_path + 'requetes.csv', index_col=[0])"
   ]
  },
  {
   "cell_type": "markdown",
   "metadata": {},
   "source": [
    "## USE CASES"
   ]
  },
  {
   "cell_type": "markdown",
   "metadata": {},
   "source": [
    "### Use cases 1 : Execution TIME"
   ]
  },
  {
   "cell_type": "markdown",
   "metadata": {},
   "source": [
    "#### Table = mvtrealise"
   ]
  },
  {
   "cell_type": "code",
   "execution_count": null,
   "metadata": {},
   "outputs": [],
   "source": [
    "table = 'fr.infologic.stocks.gestion.modele.mvtrealise'"
   ]
  },
  {
   "cell_type": "code",
   "execution_count": null,
   "metadata": {},
   "outputs": [],
   "source": [
    "requetes_ = get_df_table (requetes, table) \n",
    "get_analysis(requetes_)"
   ]
  },
  {
   "cell_type": "code",
   "execution_count": null,
   "metadata": {},
   "outputs": [],
   "source": [
    "{'algorithm' : 'beam search' , 'mesure' : 'Support'}\n",
    "\n",
    "result1_supp = sd_binary_table (requetes, \n",
    "                       table   = table,\n",
    "                       _target = 'discDurations',\n",
    "                       mesure  = 'Support',\n",
    "                       _depth  = 1,\n",
    "                       threshold = 10000,\n",
    "                       result_size = 200,\n",
    "                       algorithm   = 'Beam Search',\n",
    "                       _beam_width = 200)\n",
    "res1_supp = result1_supp.to_dataframe()\n",
    "res1_supp[res1_supp['coverage_sg'] > 0.94]"
   ]
  },
  {
   "cell_type": "code",
   "execution_count": null,
   "metadata": {},
   "outputs": [],
   "source": [
    "requetes.columns[:33]"
   ]
  },
  {
   "cell_type": "code",
   "execution_count": null,
   "metadata": {},
   "outputs": [],
   "source": [
    "res1_supp[~res1_supp['subgroup'].str.contains('==0')]"
   ]
  },
  {
   "cell_type": "code",
   "execution_count": null,
   "metadata": {},
   "outputs": [],
   "source": [
    "res1_supp['subgroup'][166]"
   ]
  },
  {
   "cell_type": "code",
   "execution_count": null,
   "metadata": {},
   "outputs": [],
   "source": [
    "{'algorithm' : 'beam search' , 'mesure' : 'Lift'}\n",
    "\n",
    "result1_lift = sd_binary_table (requetes, \n",
    "                       table   = table,\n",
    "                       _target = 'discDurations',\n",
    "                       mesure  = 'Lift',\n",
    "                       _depth  = 2,\n",
    "                       threshold = 10000,\n",
    "                       result_size = 100,\n",
    "                       algorithm   = 'Beam Search',\n",
    "                       _beam_width = 100)\n",
    "res1_lift = result1_lift.to_dataframe()"
   ]
  },
  {
   "cell_type": "code",
   "execution_count": null,
   "metadata": {},
   "outputs": [],
   "source": [
    "res1_lift[res1_lift['target_share_sg'] > 0.95].sort_values(by='coverage_sg', ascending = False)[:10]"
   ]
  },
  {
   "cell_type": "code",
   "execution_count": null,
   "metadata": {},
   "outputs": [],
   "source": [
    "res1_lift['subgroup'][12]"
   ]
  },
  {
   "cell_type": "code",
   "execution_count": null,
   "metadata": {},
   "outputs": [],
   "source": [
    "{'algorithm' : 'beam search' , 'mesure' : 'WRAcc'}\n",
    "\n",
    "result1_wracc = sd_binary_table (requetes, \n",
    "                       table   = table,\n",
    "                       _target = 'discDurations',\n",
    "                       mesure  = 'WRAcc',\n",
    "                       _depth  = 2,\n",
    "                       threshold = 10000,\n",
    "                       result_size = 100,\n",
    "                       algorithm   = 'Beam Search',\n",
    "                       _beam_width = 100)\n",
    "res1_wracc = result1_wracc.to_dataframe()\n",
    "res1_wracc[res1_wracc['positives_sg'] > 10].sort_values(by='target_share_sg', ascending = False)[:10]"
   ]
  },
  {
   "cell_type": "code",
   "execution_count": null,
   "metadata": {},
   "outputs": [],
   "source": [
    "{'algorithm' : 'beam search' , 'mesure' : 'Binomial'}\n",
    "\n",
    "result1_binomial = sd_binary_table (requetes, \n",
    "                       table   = table,\n",
    "                       _target = 'discDurations',\n",
    "                       mesure  = 'Binomial',\n",
    "                       _depth  = 2,\n",
    "                       threshold = 10000,\n",
    "                       result_size = 100,\n",
    "                       algorithm   = 'Beam Search',\n",
    "                       _beam_width = 100)\n",
    "res1_binomial = result1_binomial.to_dataframe()\n",
    "res1_binomial[res1_binomial['positives_sg'] < 20000].sort_values(by='target_share_sg', ascending = False)[:10]"
   ]
  },
  {
   "cell_type": "code",
   "execution_count": null,
   "metadata": {},
   "outputs": [],
   "source": [
    "res1_binomial[res1_binomial['positives_sg'] < 20700].sort_values(by='target_share_sg', ascending = False)[:]"
   ]
  },
  {
   "cell_type": "code",
   "execution_count": null,
   "metadata": {},
   "outputs": [],
   "source": [
    "res1_wracc[res1_binomial['subgroup'].str.contains('versionBDD')]"
   ]
  },
  {
   "cell_type": "code",
   "execution_count": null,
   "metadata": {},
   "outputs": [],
   "source": [
    "res1_binomial['subgroup'][18]"
   ]
  },
  {
   "cell_type": "code",
   "execution_count": null,
   "metadata": {},
   "outputs": [],
   "source": [
    "similarity_sgs(result1_wracc.to_descriptions(), 20, requetes_, color=True)"
   ]
  },
  {
   "cell_type": "code",
   "execution_count": null,
   "metadata": {},
   "outputs": [],
   "source": [
    "d, d_names, sg_names = greedy_jaccard(result2_std.to_descriptions(),20, requetes_tables, 0.5)\n",
    "for sg in d_names.keys() :\n",
    "    print(sg)"
   ]
  },
  {
   "cell_type": "code",
   "execution_count": null,
   "metadata": {},
   "outputs": [],
   "source": [
    "similarity_dendrogram(result2_std.to_descriptions(), 20, requetes_tables)"
   ]
  },
  {
   "cell_type": "code",
   "execution_count": null,
   "metadata": {},
   "outputs": [],
   "source": [
    "indices2_std = similarity_dendrogram(result2_std.to_descriptions(), 20, requetes_tables,truncated = True, p = 14)"
   ]
  },
  {
   "cell_type": "code",
   "execution_count": null,
   "metadata": {},
   "outputs": [],
   "source": [
    "res2_raf = res2_std[res2_std.index.isin(indices2_std)]\n",
    "res2_raf"
   ]
  },
  {
   "cell_type": "markdown",
   "metadata": {},
   "source": [
    "#### Dec : VENTES with > 100 users"
   ]
  },
  {
   "cell_type": "code",
   "execution_count": null,
   "metadata": {},
   "outputs": [],
   "source": [
    "dict_conds = {'nbUtilisateurs' : {'gt' : 100}, 'DeclinaisonCOP' : 'Ventes'}       "
   ]
  },
  {
   "cell_type": "code",
   "execution_count": null,
   "metadata": {},
   "outputs": [],
   "source": [
    "result3 = sd_numerical_conds (requetes,\n",
    "                          dict_conds = dict_conds ,\n",
    "                          _target = 'durationMS',\n",
    "                          mesure = 'mean',\n",
    "                          coef_sg_size = 0.5,\n",
    "                          _depth  = 1,\n",
    "                          result_size = 10,\n",
    "                          algorithm   = 'Beam Search',\n",
    "                          _beam_width = 20)\n",
    "res3 = result3.to_dataframe()\n",
    "res3"
   ]
  },
  {
   "cell_type": "code",
   "execution_count": null,
   "metadata": {},
   "outputs": [],
   "source": [
    "res3['mean_sg']/res3['mean_dataset']"
   ]
  },
  {
   "cell_type": "code",
   "execution_count": null,
   "metadata": {},
   "outputs": [],
   "source": [
    "res3['subgroup'][3]"
   ]
  },
  {
   "cell_type": "code",
   "execution_count": null,
   "metadata": {},
   "outputs": [],
   "source": [
    "plot_distribution_numeric_test(result3.to_descriptions(), requetes_ventes, 1, 'durationMS')"
   ]
  },
  {
   "cell_type": "code",
   "execution_count": null,
   "metadata": {},
   "outputs": [],
   "source": [
    "def plot_distribution_numeric_test(sgs, data, bins, target):\n",
    "    fig, _ = plt.subplots(figsize=(4, 2))\n",
    "    target_values_data = data[target].values\n",
    "    maxlim = 0\n",
    "    for i in range(1,5):\n",
    "        sg = sgs[i-1][1]\n",
    "        target_values_sg = data[sg.covers(data)][target].values\n",
    "        plt.hist(target_values_sg, bins= 20, range = (np.amin(target_values_data),np.amax(target_values_data)),linewidth=1.5,histtype=u'step' ,alpha=0.5, label=\"subgroup\"+str(i), density=True)\n",
    "        maxlim = max(maxlim,np.amax(target_values_sg))\n",
    "    plt.hist(target_values_data, bins=20,range = (np.amin(target_values_data),np.amax(target_values_data)),linewidth=1.5 ,alpha=0.5, label=\"Overall Data\", density=True)\n",
    "    plt.xlim(0, maxlim + 42000)\n",
    "    plt.xlabel('time')\n",
    "    #plt.yscale('log')\n",
    "    plt.ticklabel_format(axis=\"x\", style=\"sci\", scilimits=(0,0))\n",
    "    plt.legend(loc='upper right')"
   ]
  },
  {
   "cell_type": "code",
   "execution_count": null,
   "metadata": {},
   "outputs": [],
   "source": [
    "result3_mean = sd_numerical_conds (requetes,\n",
    "                          dict_conds = dict_conds ,\n",
    "                          _target = 'durationMS',\n",
    "                          mesure = 'median',\n",
    "                          coef_sg_size = 0.5,\n",
    "                          _depth  = 1,\n",
    "                          result_size = 10,\n",
    "                          algorithm   = 'Beam Search',\n",
    "                          _beam_width = 100)\n",
    "res_mean3 = result3_mean.to_dataframe()\n",
    "res_mean3"
   ]
  },
  {
   "cell_type": "code",
   "execution_count": null,
   "metadata": {},
   "outputs": [],
   "source": [
    "result3_std = sd_numerical_conds (requetes,\n",
    "                          dict_conds = dict_conds ,\n",
    "                          _target = 'durationMS',\n",
    "                          mesure = 't-score',\n",
    "                          coef_sg_size = 0.5,\n",
    "                          _depth  = 1,\n",
    "                          result_size = 100,\n",
    "                          algorithm   = 'Beam Search',\n",
    "                          _beam_width = 100)\n",
    "res_std = result3_std.to_dataframe()\n",
    "res_std.sort_values(by='size_sg', ascending = False)"
   ]
  },
  {
   "cell_type": "code",
   "execution_count": null,
   "metadata": {},
   "outputs": [],
   "source": [
    "res_std[13:17]"
   ]
  },
  {
   "cell_type": "code",
   "execution_count": null,
   "metadata": {},
   "outputs": [],
   "source": [
    "requetes_ventes = get_df_conditions(requetes, dict_conds)"
   ]
  },
  {
   "cell_type": "code",
   "execution_count": null,
   "metadata": {},
   "outputs": [],
   "source": [
    "similarity_dendrogram(result3_mean.to_descriptions(), 20, requetes_ventes)"
   ]
  },
  {
   "cell_type": "code",
   "execution_count": null,
   "metadata": {},
   "outputs": [],
   "source": [
    "result3_std.to_descriptions()[:20]"
   ]
  },
  {
   "cell_type": "code",
   "execution_count": null,
   "metadata": {},
   "outputs": [],
   "source": [
    "indices = similarity_dendrogram(result3_std.to_descriptions(), 20, requetes_ventes,truncated = True, p = 10)"
   ]
  },
  {
   "cell_type": "code",
   "execution_count": null,
   "metadata": {},
   "outputs": [],
   "source": [
    "indices"
   ]
  },
  {
   "cell_type": "code",
   "execution_count": null,
   "metadata": {},
   "outputs": [],
   "source": [
    "res_std['mean_sg']/res_std['std_sg'][:20]"
   ]
  },
  {
   "cell_type": "code",
   "execution_count": null,
   "metadata": {},
   "outputs": [],
   "source": [
    "def plot_distribution_numeric(sg, data, bins, target):\n",
    "    fig, _ = plt.subplots(figsize=(4, 3))\n",
    "    target_values_sg = data[sg.covers(data)][target].values\n",
    "    target_values_data = data[target].values\n",
    "    plt.hist(target_values_sg, bins= 100, range = (np.amin(target_values_data),np.amax(target_values_data)) ,alpha=0.5, label=\"subgroup(1)\", density=True)\n",
    "    plt.hist(target_values_data, bins=100,range = (np.amin(target_values_data),np.amax(target_values_data)) ,alpha=0.5, label=\"Overall Data\", density=True)\n",
    "    plt.xlim(0, np.amax(target_values_sg))\n",
    "    plt.xlabel('time')\n",
    "    #plt.yscale('log')\n",
    "    plt.ticklabel_format(axis=\"x\", style=\"sci\", scilimits=(0,0))\n",
    "    plt.legend(loc='upper right')"
   ]
  },
  {
   "cell_type": "code",
   "execution_count": null,
   "metadata": {},
   "outputs": [],
   "source": [
    "def plot_distribution_numeric_test(sgs, data, bins, target):\n",
    "    fig, _ = plt.subplots(figsize=(4, 2))\n",
    "    target_values_data = data[target].values\n",
    "    maxlim = 0\n",
    "    j = 0\n",
    "    indexes = [7,1,8,5]\n",
    "    for i in [2,7,16,19] :\n",
    "        sg = sgs[i-1][1]\n",
    "        print(sg)\n",
    "        target_values_sg = data[sg.covers(data)][target].values\n",
    "        plt.hist(target_values_sg, bins= bins, range = (np.amin(target_values_data),np.amax(target_values_data)),linewidth=1.5,histtype=u'step' ,alpha=0.5, label=\"subgroup\"+str(indexes[j]), density=True)\n",
    "        maxlim = max(maxlim,np.amax(target_values_sg))\n",
    "        j = j + 1 \n",
    "    plt.hist(target_values_data, bins=bins,range = (np.amin(target_values_data),np.amax(target_values_data)),linewidth=1.5 ,alpha=0.5, label=\"Overall Data\", density=True)\n",
    "    plt.xlim(0, maxlim + 42000)\n",
    "    plt.xlabel('time')\n",
    "    #plt.yscale('log')\n",
    "    plt.ticklabel_format(axis=\"x\", style=\"sci\", scilimits=(0,0))\n",
    "    plt.ticklabel_format(axis=\"y\", style=\"sci\", scilimits=(0,0))\n",
    "    plt.legend(loc='upper right')\n",
    "    plt.show()"
   ]
  },
  {
   "cell_type": "code",
   "execution_count": null,
   "metadata": {},
   "outputs": [],
   "source": [
    "import matplotlib as mpl\n",
    "mpl.rcParams.update(mpl.rcParamsDefault)"
   ]
  },
  {
   "cell_type": "code",
   "execution_count": null,
   "metadata": {},
   "outputs": [],
   "source": [
    "target_values_data = data[target].values\n",
    "plt.hist(target_values_data, bins = 80,range = (np.amin(target_values_data),np.amax(target_values_data)),linewidth=1.5 ,alpha=0.5, label=\"Overall Data\", density=True)"
   ]
  },
  {
   "cell_type": "code",
   "execution_count": null,
   "metadata": {
    "scrolled": false
   },
   "outputs": [],
   "source": [
    "plot_distribution_numeric_test(result3_std.to_descriptions(), requetes_ventes, 80, 'durationMS')"
   ]
  },
  {
   "cell_type": "code",
   "execution_count": null,
   "metadata": {},
   "outputs": [],
   "source": [
    "res_std['subgroup'][6]"
   ]
  },
  {
   "cell_type": "code",
   "execution_count": null,
   "metadata": {},
   "outputs": [],
   "source": [
    "result3_std.to_descriptions()[:20]"
   ]
  },
  {
   "cell_type": "markdown",
   "metadata": {},
   "source": [
    "### Use cases 2 : ASH"
   ]
  },
  {
   "cell_type": "code",
   "execution_count": null,
   "metadata": {},
   "outputs": [],
   "source": [
    "requetes[requetes['concurrence'] > 0.5].shape"
   ]
  },
  {
   "cell_type": "code",
   "execution_count": null,
   "metadata": {},
   "outputs": [],
   "source": [
    "requetes[requetes['concurrence'] > 0.5]['versionCOP'].value_counts()"
   ]
  },
  {
   "cell_type": "code",
   "execution_count": null,
   "metadata": {},
   "outputs": [],
   "source": [
    "requetes_conc = requetes[requetes['versionCOP'] == 'V15_2L.d211415.21/10/2020 16:48']\n",
    "requetes_conc = requetes_conc.loc[:, (requetes_conc != 0).any(axis=0)]\n",
    "for column in requetes_conc.columns :\n",
    "    if requetes_conc[column].unique().size == 1 : \n",
    "        del requetes_conc[column]"
   ]
  },
  {
   "cell_type": "code",
   "execution_count": null,
   "metadata": {},
   "outputs": [],
   "source": [
    "requetes_conc['conc_disc'] = requetes_conc['concurrence'].apply(lambda x : 1 if x > 0.5 else 0)"
   ]
  },
  {
   "cell_type": "code",
   "execution_count": null,
   "metadata": {},
   "outputs": [],
   "source": [
    "{'algorithm' : 'beam search' , 'mesure' : 'Support'}\n",
    "\n",
    "result_ash_supp = sd_binary_conds (requetes_conc,\n",
    "                       dict_conds = {},\n",
    "                       _target = 'conc_disc',\n",
    "                       mesure  = 'Support',\n",
    "                       _depth  = 1,\n",
    "                       threshold = 10000,\n",
    "                       result_size = 100,\n",
    "                       algorithm   = 'Beam Search',\n",
    "                       _beam_width = 100)\n",
    "res_ash_supp = result_ash_supp.to_dataframe()\n",
    "res_ash_supp[res_ash_supp['coverage_sg'] > 0.94]"
   ]
  },
  {
   "cell_type": "code",
   "execution_count": null,
   "metadata": {},
   "outputs": [],
   "source": [
    "{'algorithm' : 'beam search' , 'mesure' : 'Lift'}\n",
    "\n",
    "result_ash_lift = sd_binary_conds (requetes_conc,\n",
    "                       dict_conds = {},\n",
    "                       _target = 'conc_disc',\n",
    "                       mesure  = 'Lift',\n",
    "                       _depth  = 2,\n",
    "                       threshold = 10000,\n",
    "                       result_size = 100,\n",
    "                       algorithm   = 'Beam Search',\n",
    "                       _beam_width = 100,\n",
    "                       features_ignore = ['concurrence'])\n",
    "res_ash_lift = result_ash_lift.to_dataframe()\n",
    "res_ash_lift[res_ash_lift['target_share_sg'] > 0.95].sort_values(by='coverage_sg', ascending = False)[:10]"
   ]
  },
  {
   "cell_type": "code",
   "execution_count": null,
   "metadata": {},
   "outputs": [],
   "source": [
    "res_ash_lift['subgroup'][1]"
   ]
  },
  {
   "cell_type": "code",
   "execution_count": null,
   "metadata": {},
   "outputs": [],
   "source": [
    "{'algorithm' : 'beam search' , 'mesure' : 'WRAcc'}\n",
    "\n",
    "result_ash_wracc = sd_binary_conds (requetes_conc,\n",
    "                       dict_conds = {},\n",
    "                       _target = 'conc_disc',\n",
    "                       mesure  = 'WRAcc',\n",
    "                       _depth  = 1,\n",
    "                       threshold = 10000,\n",
    "                       result_size = 100,\n",
    "                       algorithm   = 'Beam Search',\n",
    "                       _beam_width = 100,\n",
    "                      features_ignore = ['concurrence'])\n",
    "res_ash_wracc = result_ash_wracc.to_dataframe()\n",
    "res_ash_wracc[res_ash_wracc['positives_sg'] > 5].sort_values(by='target_share_sg', ascending = False)[:10]"
   ]
  },
  {
   "cell_type": "code",
   "execution_count": null,
   "metadata": {},
   "outputs": [],
   "source": [
    "{'algorithm' : 'beam search' , 'mesure' : 'Binomial'}\n",
    "\n",
    "result_ash_bin = sd_binary_conds (requetes_conc,\n",
    "                       dict_conds = {},\n",
    "                       _target = 'conc_disc',\n",
    "                       mesure  = 'Binomial',\n",
    "                       _depth  = 2,\n",
    "                       threshold = 10000,\n",
    "                       result_size = 100,\n",
    "                       algorithm   = 'Beam Search',\n",
    "                       _beam_width = 100,\n",
    "                      features_ignore=['concurrence'])\n",
    "res_ash_bin = result_ash_bin.to_dataframe()\n",
    "res_ash_bin[res_ash_bin['positives_sg'] > 10].sort_values(by='target_share_sg', ascending = False)[:10]"
   ]
  },
  {
   "cell_type": "code",
   "execution_count": null,
   "metadata": {},
   "outputs": [],
   "source": [
    "res_ash_bin['subgroup'][75]"
   ]
  },
  {
   "cell_type": "code",
   "execution_count": null,
   "metadata": {},
   "outputs": [],
   "source": [
    "requetes[requetes['instanceCode'] == 'LDC_pop11501']['DeclinaisonCOP'].unique()"
   ]
  },
  {
   "cell_type": "code",
   "execution_count": null,
   "metadata": {},
   "outputs": [],
   "source": [
    "res_ash_bin[res_ash_bin['positives_sg'] > 10].sort_values(by='target_share_sg', ascending = False)[:]"
   ]
  },
  {
   "cell_type": "code",
   "execution_count": null,
   "metadata": {},
   "outputs": [],
   "source": [
    "res_ash_bin[~res_ash_bin['subgroup'].str.contains('==0')]"
   ]
  },
  {
   "cell_type": "markdown",
   "metadata": {},
   "source": [
    "### Use cases 3 : Alertes"
   ]
  },
  {
   "cell_type": "code",
   "execution_count": null,
   "metadata": {},
   "outputs": [],
   "source": [
    "requetes[requetes['nbSessionBDBloquee_disc']>0]['instanceCode'].value_counts()"
   ]
  },
  {
   "cell_type": "code",
   "execution_count": null,
   "metadata": {},
   "outputs": [],
   "source": [
    "requetes_alertes = requetes[requetes['instanceCode'].str.contains(('|'.join(requetes[requetes['nbSessionBDBloquee_disc']>0]['instanceCode'].value_counts().index)))]\n",
    "requetes_alertes = requetes_alertes.loc[:, (requetes_alertes != 0).any(axis=0)]\n",
    "for column in requetes_alertes.columns :\n",
    "    if requetes_alertes[column].unique().size == 1 : \n",
    "        del requetes_alertes[column]"
   ]
  },
  {
   "cell_type": "code",
   "execution_count": null,
   "metadata": {},
   "outputs": [],
   "source": [
    "instance = 'LDC_reg00101'"
   ]
  },
  {
   "cell_type": "code",
   "execution_count": null,
   "metadata": {},
   "outputs": [],
   "source": [
    "def discretize_alert (x) :\n",
    "    if x == 'Critique' or x == 'Bloquant' or x == 'Alarme':\n",
    "        return 1 \n",
    "    else :\n",
    "        return 0"
   ]
  },
  {
   "cell_type": "code",
   "execution_count": null,
   "metadata": {},
   "outputs": [],
   "source": [
    "requetes_alertes['nbSessionBDBloquee_disc'] = requetes_alertes['nbSessionBDBloquee'].apply(lambda x : discretize_alert(x))"
   ]
  },
  {
   "cell_type": "code",
   "execution_count": null,
   "metadata": {},
   "outputs": [],
   "source": [
    "requetes['nbSessionBDBloquee_disc'] = requetes['nbSessionBDBloquee'].apply(lambda x : discretize_alert(x))"
   ]
  },
  {
   "cell_type": "code",
   "execution_count": null,
   "metadata": {},
   "outputs": [],
   "source": [
    "requetes_tmp2 = get_df_instance (requetes, instance) "
   ]
  },
  {
   "cell_type": "code",
   "execution_count": null,
   "metadata": {},
   "outputs": [],
   "source": [
    "for column in requetes_tmp2.columns :\n",
    "    if requetes_tmp2[column].unique().size == 1 : \n",
    "        del requetes_tmp2[column]"
   ]
  },
  {
   "cell_type": "code",
   "execution_count": null,
   "metadata": {},
   "outputs": [],
   "source": [
    "res_alrt_lift['subgroup'][2]"
   ]
  },
  {
   "cell_type": "code",
   "execution_count": null,
   "metadata": {},
   "outputs": [],
   "source": [
    "{'algorithm' : 'beam search' , 'mesure' : 'Support'}\n",
    "\n",
    "result_alrt_supp = sd_binary_conds (requetes_alertes,\n",
    "                       dict_conds = {},\n",
    "                          _target = 'nbSessionBDBloquee_disc',\n",
    "                          mesure  = 'Support',\n",
    "                          _depth  = 1,\n",
    "                          threshold = 10000,\n",
    "                          result_size = 150,\n",
    "                          algorithm   = 'Beam Search',\n",
    "                          _beam_width = 150)\n",
    "res_alrt_supp = result_alrt_supp.to_dataframe()\n",
    "res_alrt_supp[res_alrt_supp['coverage_sg'] > 0.99]"
   ]
  },
  {
   "cell_type": "code",
   "execution_count": null,
   "metadata": {},
   "outputs": [],
   "source": [
    "{'algorithm' : 'beam search' , 'mesure' : 'Lift'}\n",
    "\n",
    "result_alrt_lift = sd_binary_conds (requetes_alertes,\n",
    "                       dict_conds = {},\n",
    "                          _target = 'nbSessionBDBloquee_disc',\n",
    "                          mesure  = 'Lift',\n",
    "                          _depth  = 1,\n",
    "                          threshold = 10000,\n",
    "                          result_size = 100,\n",
    "                          algorithm   = 'Beam Search',\n",
    "                          _beam_width = 100,\n",
    "                         features_ignore=['nbSessionBDBloquee','DeclinaisonCOP','instanceCode'])\n",
    "res_alrt_lift = result_alrt_lift.to_dataframe()\n",
    "res_alrt_lift[res_alrt_lift['target_share_sg'] > 0.8].sort_values(by='coverage_sg', ascending = False)[:10]"
   ]
  },
  {
   "cell_type": "code",
   "execution_count": null,
   "metadata": {},
   "outputs": [],
   "source": [
    "res_alrt_lift[res_alrt_lift['target_share_sg'] >= 0.9]"
   ]
  },
  {
   "cell_type": "code",
   "execution_count": null,
   "metadata": {},
   "outputs": [],
   "source": [
    "res_alrt_lift[res_alrt_lift['subgroup'].str.contains('modele.cdeligliv')]"
   ]
  },
  {
   "cell_type": "code",
   "execution_count": null,
   "metadata": {},
   "outputs": [],
   "source": [
    "res_alrt_lift['subgroup'][56]"
   ]
  },
  {
   "cell_type": "code",
   "execution_count": null,
   "metadata": {},
   "outputs": [],
   "source": [
    "{'algorithm' : 'beam search' , 'mesure' : 'WRAcc'}\n",
    "\n",
    "result_alrt_wracc = sd_binary_conds (requetes_alertes,\n",
    "                       dict_conds = {},\n",
    "                          _target = 'nbSessionBDBloquee_disc',\n",
    "                          mesure  = 'WRAcc',\n",
    "                          _depth  = 1,\n",
    "                          threshold = 10000,\n",
    "                          result_size = 100,\n",
    "                          algorithm   = 'Beam Search',\n",
    "                          _beam_width = 100,\n",
    "                        features_ignore=['nbSessionBDBloquee','DeclinaisonCOP','instanceCode'])\n",
    "res_alrt_wracc = result_alrt_wracc.to_dataframe()\n",
    "res_alrt_wracc[res_alrt_wracc['positives_sg'] > 25].sort_values(by='target_share_sg', ascending = False)[:15]"
   ]
  },
  {
   "cell_type": "code",
   "execution_count": null,
   "metadata": {},
   "outputs": [],
   "source": [
    "{'algorithm' : 'beam search' , 'mesure' : 'Binomial'}\n",
    "\n",
    "result_alrt_bin = sd_binary_conds (requetes_alertes,\n",
    "                       dict_conds = {},\n",
    "                          _target = 'nbSessionBDBloquee_disc',\n",
    "                          mesure  = 'Binomial',\n",
    "                          _depth  = 1,\n",
    "                          threshold = 10000,\n",
    "                          result_size = 100,\n",
    "                          algorithm   = 'Beam Search',\n",
    "                          _beam_width = 100,\n",
    "                        features_ignore=['nbSessionBDBloquee','DeclinaisonCOP','instanceCode'])\n",
    "res_alrt_bin = result_alrt_bin.to_dataframe()\n",
    "res_alrt_bin[res_alrt_bin['positives_sg'] > 25].sort_values(by='target_share_sg', ascending = False)[:15]"
   ]
  },
  {
   "cell_type": "code",
   "execution_count": null,
   "metadata": {},
   "outputs": [],
   "source": [
    "result_alrt_bin.to_descriptions()[:10]"
   ]
  },
  {
   "cell_type": "code",
   "execution_count": null,
   "metadata": {},
   "outputs": [],
   "source": [
    "similarity_sgs(result_alrt_bin.to_descriptions(), 10, requetes_alertes, color=True)"
   ]
  },
  {
   "cell_type": "code",
   "execution_count": null,
   "metadata": {},
   "outputs": [],
   "source": [
    "def similarity_dendrogram(result_descriptions, result_size, data, truncated = False, p = None):\n",
    "    fig, _ = plt.subplots(figsize=(10, 5))\n",
    "    dist_df = similarity_sgs(result_descriptions, result_size, data, color=False)\n",
    "    #sgNames = [str(x[1]) for x in result_descriptions[:result_size]]\n",
    "    sgNames = ['WHERE_ventes.commandesfactures.modele.bonliv.datdepart > 0',\n",
    "              'anomalyRepartition = Alarm',\n",
    "              'anomalyRepartition = Info',\n",
    "              'hour : [10 : 14]',\n",
    "              'activSessions = Info',\n",
    "              'application > 0.6',\n",
    "              'day = Sunday',\n",
    "              'configuration > 0.1',\n",
    "              'anomalyRepartition = Critique',\n",
    "              'poolActivConnection = Info']\n",
    "    mat = 1 - dist_df.values\n",
    "    dists = squareform(mat)\n",
    "    linkage_matrix = linkage(dists, \"single\")\n",
    "    if truncated == True :\n",
    "        r = dendrogram(linkage_matrix, labels=sgNames, leaf_rotation=90, p = p, truncate_mode='lastp')\n",
    "        count = 0\n",
    "        l_count = []\n",
    "        for sg in r['ivl'] :\n",
    "            if '(' in sg : # number \n",
    "                print(sgNames[count])\n",
    "                l_count.append(count)\n",
    "                count = count + int(sg[sg.find('(') + 1 : sg.find(')')])\n",
    "            else :\n",
    "                print(sg)\n",
    "                l_count.append(count)\n",
    "                count = count + 1\n",
    "        \n",
    "        jaccard_threshold = 1- min([j for i in r['dcoord'] for j in i[1:-1]])\n",
    "        print(jaccard_threshold)\n",
    "        return l_count\n",
    "    \n",
    "    else :\n",
    "        dendrogram(linkage_matrix, labels=sgNames, leaf_rotation=90)"
   ]
  },
  {
   "cell_type": "code",
   "execution_count": null,
   "metadata": {},
   "outputs": [],
   "source": [
    "similarity_dendrogram(result_alrt_bin.to_descriptions(), 10, requetes_alertes)"
   ]
  },
  {
   "cell_type": "code",
   "execution_count": null,
   "metadata": {},
   "outputs": [],
   "source": [
    "indices = similarity_dendrogram(result_alrt_bin.to_descriptions(), 10, requetes_alertes,truncated = True, p = 5)"
   ]
  },
  {
   "cell_type": "code",
   "execution_count": null,
   "metadata": {},
   "outputs": [],
   "source": [
    "plot_distribution_numeric_test(result_alrt_bin.to_descriptions(), requetes_alertes, 1, 'durationMS')"
   ]
  },
  {
   "cell_type": "code",
   "execution_count": null,
   "metadata": {},
   "outputs": [],
   "source": [
    "requetes.columns[:33]"
   ]
  },
  {
   "cell_type": "code",
   "execution_count": null,
   "metadata": {},
   "outputs": [],
   "source": [
    "requetes[requetes['moyenneNbSessionsActives'] == 'Alarme']['instanceCode'].unique()"
   ]
  },
  {
   "cell_type": "code",
   "execution_count": null,
   "metadata": {},
   "outputs": [],
   "source": [
    "requetes['moyenneNbSessionsActives'].value_counts()"
   ]
  },
  {
   "cell_type": "code",
   "execution_count": null,
   "metadata": {},
   "outputs": [],
   "source": [
    "requetes.shape"
   ]
  },
  {
   "cell_type": "code",
   "execution_count": null,
   "metadata": {},
   "outputs": [],
   "source": [
    "requetes.drop_duplicates().shape"
   ]
  }
 ],
 "metadata": {
  "kernelspec": {
   "display_name": "Python 3",
   "language": "python",
   "name": "python3"
  },
  "language_info": {
   "codemirror_mode": {
    "name": "ipython",
    "version": 3
   },
   "file_extension": ".py",
   "mimetype": "text/x-python",
   "name": "python",
   "nbconvert_exporter": "python",
   "pygments_lexer": "ipython3",
   "version": "3.8.5"
  }
 },
 "nbformat": 4,
 "nbformat_minor": 4
}
