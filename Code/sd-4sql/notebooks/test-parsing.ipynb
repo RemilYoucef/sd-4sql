{
 "cells": [
  {
   "cell_type": "code",
   "execution_count": 8,
   "metadata": {},
   "outputs": [],
   "source": [
    "import os\n",
    "import sys\n",
    "sys.path.append(os.path.join(os.path.dirname(os.path.dirname(os.getcwd())),'sd-4sql\\\\packages'))\n",
    "from query_parser import *\n",
    "from moz_sql_parser import parse"
   ]
  },
  {
   "cell_type": "code",
   "execution_count": null,
   "metadata": {},
   "outputs": [],
   "source": [
    "query1 = 'SELECT ik FROM VT_Article ORDER BY datMod DESC'\n",
    "print(query1)\n",
    "parsing(query1)"
   ]
  },
  {
   "cell_type": "markdown",
   "metadata": {},
   "source": [
    "### Query with Join clause and functions"
   ]
  },
  {
   "cell_type": "code",
   "execution_count": 27,
   "metadata": {},
   "outputs": [
    {
     "name": "stdout",
     "output_type": "stream",
     "text": [
      "here\n"
     ]
    },
    {
     "data": {
      "text/plain": [
       "{'tables_from': ['fr.infologic.ventes.commandesfactures.modele.cdelig'],\n",
       " 'tables_join': [],\n",
       " 'projections': ['fr.infologic.ventes.commandesfactures.modele.cdelig.ik'],\n",
       " 'atts_where': ['fr.infologic.ventes.commandesfactures.modele.cdelig.cde.typcde',\n",
       "  'fr.infologic.ventes.commandesfactures.modele.cdelig.typliggenere',\n",
       "  'fr.infologic.ventes.commandesfactures.modele.cdelig.typliggenere',\n",
       "  'fr.infologic.ventes.commandesfactures.modele.cdelig.art.refdefaut',\n",
       "  'fr.infologic.ventes.commandesfactures.modele.cdelig.cde.cliliv',\n",
       "  'fr.infologic.ventes.commandesfactures.modele.cdelig.cde.noclicontrat',\n",
       "  'fr.infologic.ventes.commandesfactures.modele.cdelig.cde.etatcontrat',\n",
       "  'fr.infologic.ventes.commandesfactures.modele.cdelig.etatcontrat',\n",
       "  'fr.infologic.ventes.commandesfactures.modele.cdelig.libstd',\n",
       "  'fr.infologic.ventes.commandesfactures.modele.cdelig.dossierinfo.dosres'],\n",
       " 'atts_groupby': [],\n",
       " 'atts_orderby': [],\n",
       " 'atts_having': [],\n",
       " 'functions': ['count']}"
      ]
     },
     "execution_count": 27,
     "metadata": {},
     "output_type": "execute_result"
    }
   ],
   "source": [
    "query = 'select count( distinct a.ik) from fr.infologic.ventes.commandesfactures.modele.CdeLig as a where a.cde.typCde = :p1 and a.typLigGenere != :p2 and a.typLigGenere != :p3 and a.art.refDefaut = :p4 and (a.cde.cliLiv = :p5 or 9596436491 in elements (a.cde.noCliContrat)) and ( a.cde.etatContrat in ( :collection0_ ) ) and ( a.etatContrat NOT in ( :collection1_ ) ) and UPPER ( a.libStd ) like UPPER( :p6 ) and a.dossierInfo.dosRes = :p7'\n",
    "parsing(query)"
   ]
  },
  {
   "cell_type": "code",
   "execution_count": 30,
   "metadata": {},
   "outputs": [
    {
     "data": {
      "text/plain": [
       "{'tables_from': ['fr.infologic.ventes.commandesfactures.modele.histfacture'],\n",
       " 'tables_join': [],\n",
       " 'projections': ['fr.infologic.ventes.commandesfactures.modele.histfacture.dossierinfo.dosres',\n",
       "  'fr.infologic.ventes.commandesfactures.modele.histfacture.rgt.elements.ancienmodrgt.dossierinfo.dosres'],\n",
       " 'atts_where': [],\n",
       " 'atts_groupby': [],\n",
       " 'atts_orderby': [],\n",
       " 'atts_having': [],\n",
       " 'functions': []}"
      ]
     },
     "execution_count": 30,
     "metadata": {},
     "output_type": "execute_result"
    }
   ],
   "source": [
    "query = 'select distinct a.dossierInfo.dosRes, a.rgt.elements.ancienModRgt.dossierInfo.dosRes from fr.infologic.ventes.commandesfactures.modele.HistFacture a'\n",
    "parsing(query)"
   ]
  },
  {
   "cell_type": "code",
   "execution_count": 26,
   "metadata": {},
   "outputs": [],
   "source": [
    "def parsing(query) :\n",
    "    \n",
    "    query = query.lower()\n",
    "    \n",
    "    if ('xmlelement' in query) or ('b.prod=' in query) or ('as float' in query) or len(query) > 120000 :    \n",
    "        print('NOT SUPPORTED')\n",
    "        return 0\n",
    "    else : \n",
    "        try : \n",
    "            query = preprocessing(query)\n",
    "            query_parsed = {}\n",
    "\n",
    "            query_reg = parse(query) \n",
    "            alias = get_tables(query_reg,{})[1]\n",
    "            query_parsed['tables_from']  =  get_tables_fj(query_reg, {})[0]\n",
    "            query_parsed['tables_join']  =  get_tables_fj(query_reg, {})[1]\n",
    "            query_parsed['projections']  =  get_projections(query_reg, alias)\n",
    "            query_parsed['atts_where']   =  get_atts_where(query_reg, alias)\n",
    "            query_parsed['atts_groupby'] =  get_atts_group_by(query_reg, alias)\n",
    "            query_parsed['atts_orderby'] =  get_atts_order_by(query_reg, alias)\n",
    "            query_parsed['atts_having']  =  get_atts_having(query_reg, alias)\n",
    "            query_parsed['functions']    =  get_functions(query_reg)\n",
    "\n",
    "        except :\n",
    "            print(query)\n",
    "        return query_parsed"
   ]
  },
  {
   "cell_type": "code",
   "execution_count": 25,
   "metadata": {},
   "outputs": [],
   "source": [
    "def preprocessing(query) :\n",
    "         \n",
    "    query = query.replace(':', '')\n",
    "    query = query.replace('?','0')\n",
    "    query = query.replace(' new','')\n",
    "    query = query.replace('join fetch','join')\n",
    "    query = query.replace('where exists (','where exists ( select * ')\n",
    "    query = query.replace('[ 0 ','')\n",
    "    query = query.replace(']','')\n",
    "    query = query.replace('mon,','mon join ')\n",
    "    query = query.replace('(from','(select * from')\n",
    "    query = query.replace('= :p', '= p')\n",
    "    query = query.replace(':collection', 'collection')\n",
    "    query = query.replace('elements ', 'elements')\n",
    "    \n",
    "    if ('order by' in query) and ('group by' in query) and query.find('order by') < query.find('group by') :\n",
    "        query = swap_orderby_groupby(query)\n",
    "    \n",
    "    if (', fr.infologic' in query) and ('join' in query) and query.find(', fr.infologic') > query.find('join') :\n",
    "        query = query.replace(', fr.infologic',' join fr.infologic')\n",
    "    \n",
    "    if 'elements (' in query or 'elements(' in query:\n",
    "        print('here')\n",
    "        query = transform_elements(query)\n",
    "    \n",
    "    return query"
   ]
  },
  {
   "cell_type": "code",
   "execution_count": 4,
   "metadata": {},
   "outputs": [
    {
     "name": "stdout",
     "output_type": "stream",
     "text": [
      "select count(*) from fr.infologic.ventes.commandesfactures.modele.commande as cde inner join cde.cdeedi as cdeedi inner join cdeedi.messagerecu as m left join cdeedi.tiersediintegration as partedi left join cdeedi.cliliv as liva left join cdeedi.clilivintegration as partediinteg left join cdeedi.pdaintegration as pdainteg left join cdeedi.clicde as cdepar left join cde.repres1 as repres1 left join cdeedi.regleintegrationcde as regleinteg left join cde.degroup as degroup left join cde.transp as cdetransp left join cdeedi.cdeediglobal as cdeediglobal left join liva.operateur as opcli left join opcli.util as utopcli left join cde.siteexped.site as site where cdeedi.dossierinfo.dosres = dossieredi and cde.dossierinfo.dosres = dossiercde and cdeedi.typcdeedi in (types) and ((cde.datdepart >= datdepartmini or cde.datdepart is null) or (cde.typcde = 7 and cde.blocageedianomalie = 1 and cdeedi.datdepartmaxi >= datdepartmini)) and ((cde.datdepart <= datdepartmaxi or cde.datdepart is null) or (cde.typcde = 7 and cde.blocageedianomalie = 1 and cdeedi.datdepartmini <= datdepartmaxi)) and cde.typcde in (typescde) and cdeedi.etatcde in (etatcde)\n"
     ]
    },
    {
     "data": {
      "text/plain": [
       "{'tables_from': ['fr.infologic.ventes.commandesfactures.modele.commande'],\n",
       " 'tables_join': ['fr.infologic.ventes.commandesfactures.modele.commande.cdeedi',\n",
       "  'fr.infologic.ventes.commandesfactures.modele.commande.cdeedi.messagerecu',\n",
       "  'fr.infologic.ventes.commandesfactures.modele.commande.cdeedi.tiersediintegration',\n",
       "  'fr.infologic.ventes.commandesfactures.modele.commande.cdeedi.cliliv',\n",
       "  'fr.infologic.ventes.commandesfactures.modele.commande.cdeedi.clilivintegration',\n",
       "  'fr.infologic.ventes.commandesfactures.modele.commande.cdeedi.pdaintegration',\n",
       "  'fr.infologic.ventes.commandesfactures.modele.commande.cdeedi.clicde',\n",
       "  'fr.infologic.ventes.commandesfactures.modele.commande.repres1',\n",
       "  'fr.infologic.ventes.commandesfactures.modele.commande.cdeedi.regleintegrationcde',\n",
       "  'fr.infologic.ventes.commandesfactures.modele.commande.degroup',\n",
       "  'fr.infologic.ventes.commandesfactures.modele.commande.transp',\n",
       "  'fr.infologic.ventes.commandesfactures.modele.commande.cdeedi.cdeediglobal',\n",
       "  'fr.infologic.ventes.commandesfactures.modele.commande.cdeedi.cliliv.operateur',\n",
       "  'fr.infologic.ventes.commandesfactures.modele.commande.cdeedi.cliliv.operateur.util',\n",
       "  'fr.infologic.ventes.commandesfactures.modele.commande.siteexped.site'],\n",
       " 'projections': ['*'],\n",
       " 'atts_where': ['fr.infologic.ventes.commandesfactures.modele.commande.cdeedi.dossierinfo.dosres',\n",
       "  'fr.infologic.ventes.commandesfactures.modele.commande.dossierinfo.dosres',\n",
       "  'fr.infologic.ventes.commandesfactures.modele.commande.cdeedi.typcdeedi',\n",
       "  'fr.infologic.ventes.commandesfactures.modele.commande.datdepart',\n",
       "  'fr.infologic.ventes.commandesfactures.modele.commande.datdepart',\n",
       "  'fr.infologic.ventes.commandesfactures.modele.commande.typcde',\n",
       "  'fr.infologic.ventes.commandesfactures.modele.commande.blocageedianomalie',\n",
       "  'fr.infologic.ventes.commandesfactures.modele.commande.cdeedi.datdepartmaxi',\n",
       "  'fr.infologic.ventes.commandesfactures.modele.commande.datdepart',\n",
       "  'fr.infologic.ventes.commandesfactures.modele.commande.datdepart',\n",
       "  'fr.infologic.ventes.commandesfactures.modele.commande.typcde',\n",
       "  'fr.infologic.ventes.commandesfactures.modele.commande.blocageedianomalie',\n",
       "  'fr.infologic.ventes.commandesfactures.modele.commande.cdeedi.datdepartmini',\n",
       "  'fr.infologic.ventes.commandesfactures.modele.commande.typcde',\n",
       "  'fr.infologic.ventes.commandesfactures.modele.commande.cdeedi.etatcde'],\n",
       " 'atts_groupby': [],\n",
       " 'atts_orderby': [],\n",
       " 'atts_having': [],\n",
       " 'functions': ['count']}"
      ]
     },
     "execution_count": 4,
     "metadata": {},
     "output_type": "execute_result"
    }
   ],
   "source": [
    "query2 = 'select count(*) from fr.infologic.ventes.commandesfactures.modele.commande as cde inner join cde.cdeedi as cdeedi inner join cdeedi.messagerecu as m left join cdeedi.tiersediintegration as partedi left join cdeedi.cliliv as liva left join cdeedi.clilivintegration as partediinteg left join cdeedi.pdaintegration as pdainteg left join cdeedi.clicde as cdepar left join cde.repres1 as repres1 left join cdeedi.regleintegrationcde as regleinteg left join cde.degroup as degroup left join cde.transp as cdetransp left join cdeedi.cdeediglobal as cdeediglobal left join liva.operateur as opcli left join opcli.util as utopcli left join cde.siteexped.site as site where cdeedi.dossierinfo.dosres = dossieredi and cde.dossierinfo.dosres = dossiercde and cdeedi.typcdeedi in (types) and ((cde.datdepart >= datdepartmini or cde.datdepart is null) or (cde.typcde = 7 and cde.blocageedianomalie = 1 and cdeedi.datdepartmaxi >= datdepartmini)) and ((cde.datdepart <= datdepartmaxi or cde.datdepart is null) or (cde.typcde = 7 and cde.blocageedianomalie = 1 and cdeedi.datdepartmini <= datdepartmaxi)) and cde.typcde in (typescde) and cdeedi.etatcde in (etatcde)'\n",
    "print(query2)\n",
    "parsing(query2)"
   ]
  },
  {
   "cell_type": "markdown",
   "metadata": {},
   "source": [
    "### Nested Query"
   ]
  },
  {
   "cell_type": "code",
   "execution_count": null,
   "metadata": {},
   "outputs": [],
   "source": [
    "query3 = 'select bp from fr.infologic.ventes.commandesfactures.modele.histbonlivposition as bp join bp.bonliv as bonliv where bp.position.bordereau.dossierinfo.dosres =0 and bonliv.datdepart <=0 and bonliv.datdepart >=0 and bp.typbordereau >0 and bp.typbordereau in ( select max(b.typbordereau) from fr.infologic.ventes.commandesfactures.modele.histbonlivposition as b join b.bonliv as a where a.ik = bonliv.ik ) and bonliv.transp in(transportlist) order by bonliv.transp.ik, bonliv.degroup.ik, bonliv.degroup2.ik, bonliv.degroup3.ik'\n",
    "print(query3)\n",
    "parsing(query3)"
   ]
  },
  {
   "cell_type": "code",
   "execution_count": null,
   "metadata": {},
   "outputs": [],
   "source": [
    "'------------------------------------------------------------------------------------------------------------------------'"
   ]
  },
  {
   "cell_type": "code",
   "execution_count": null,
   "metadata": {},
   "outputs": [],
   "source": [
    "saved_path = os.path.join(os.path.dirname(os.path.dirname(os.path.dirname(os.getcwd()))),'Data\\\\saved-data\\\\')\n",
    "queries = pd.read_csv(saved_path + 'requetes_hib.csv')"
   ]
  },
  {
   "cell_type": "code",
   "execution_count": null,
   "metadata": {
    "scrolled": false
   },
   "outputs": [],
   "source": [
    "queries[queries['requete'].str.contains('elements')]['requete'].values[0]"
   ]
  },
  {
   "cell_type": "code",
   "execution_count": null,
   "metadata": {},
   "outputs": [],
   "source": [
    "query = 'select count( distinct a.ik) from fr.infologic.ventes.commandesfactures.modele.CdeLig as a where a.cde.typCde = :p1 and a.typLigGenere != :p2 and a.typLigGenere != :p3 and a.art.refDefaut = :p4 and (a.cde.cliLiv = :p5 or 9596436491 in elements (a.cde.noCliContrat)) and ( a.cde.etatContrat in ( :collection0_ ) ) and ( a.etatContrat NOT in ( :collection1_ ) ) and UPPER ( a.libStd ) like UPPER( :p6 ) and a.dossierInfo.dosRes = :p7'\n",
    "print(query)\n",
    "parsing(query)"
   ]
  },
  {
   "cell_type": "code",
   "execution_count": null,
   "metadata": {},
   "outputs": [],
   "source": []
  },
  {
   "cell_type": "code",
   "execution_count": null,
   "metadata": {},
   "outputs": [],
   "source": []
  }
 ],
 "metadata": {
  "kernelspec": {
   "display_name": "Python 3",
   "language": "python",
   "name": "python3"
  },
  "language_info": {
   "codemirror_mode": {
    "name": "ipython",
    "version": 3
   },
   "file_extension": ".py",
   "mimetype": "text/x-python",
   "name": "python",
   "nbconvert_exporter": "python",
   "pygments_lexer": "ipython3",
   "version": "3.8.5"
  }
 },
 "nbformat": 4,
 "nbformat_minor": 4
}
