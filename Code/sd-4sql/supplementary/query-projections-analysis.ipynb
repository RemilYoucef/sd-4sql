{
 "cells": [
  {
   "cell_type": "code",
   "execution_count": null,
   "metadata": {},
   "outputs": [],
   "source": [
    "import os\n",
    "import sys\n",
    "import numpy as np\n",
    "import pandas as pd\n",
    "import itertools\n",
    "from collections import Counter\n",
    "from scipy.stats import gaussian_kde\n",
    "from moz_sql_parser import parse\n",
    "sys.setrecursionlimit(3000)\n",
    "import pickle"
   ]
  },
  {
   "cell_type": "code",
   "execution_count": null,
   "metadata": {},
   "outputs": [],
   "source": [
    "saved_path = os.path.join(os.path.dirname(os.getcwd()), 'Saved Data\\\\')"
   ]
  },
  {
   "cell_type": "code",
   "execution_count": null,
   "metadata": {},
   "outputs": [],
   "source": [
    "import matplotlib.pyplot as plt\n",
    "import matplotlib\n",
    "import seaborn as sns\n",
    "sns.set(color_codes=True)\n",
    "%matplotlib inline\n",
    "plt.rcParams[\"figure.figsize\"] = [16, 6]"
   ]
  },
  {
   "cell_type": "code",
   "execution_count": null,
   "metadata": {},
   "outputs": [],
   "source": [
    "import warnings\n",
    "warnings.filterwarnings(\"ignore\")\n",
    "from matplotlib.axes._axes import _log as matplotlib_axes_logger\n",
    "matplotlib_axes_logger.setLevel('ERROR')"
   ]
  },
  {
   "cell_type": "code",
   "execution_count": null,
   "metadata": {},
   "outputs": [],
   "source": [
    "with open(saved_path + 'req_projs.pickle', 'rb') as handle:\n",
    "    dict_req_projs = pickle.load(handle)"
   ]
  },
  {
   "cell_type": "code",
   "execution_count": null,
   "metadata": {},
   "outputs": [],
   "source": [
    "list_all_projections = []\n",
    "for proj in list(dict_req_projs.values()) :\n",
    "    list_all_projections = list_all_projections + proj  "
   ]
  },
  {
   "cell_type": "code",
   "execution_count": null,
   "metadata": {},
   "outputs": [],
   "source": [
    "len(set(list_all_projections))"
   ]
  },
  {
   "cell_type": "code",
   "execution_count": null,
   "metadata": {},
   "outputs": [],
   "source": [
    "'Frequency of projs on unique queries'\n",
    "counts = Counter(list_all_projections)\n",
    "counts = sorted(counts.items(), key = lambda x: x[1], reverse=True)\n",
    "counts"
   ]
  },
  {
   "cell_type": "code",
   "execution_count": null,
   "metadata": {},
   "outputs": [],
   "source": [
    "df_projs = pd.read_csv(saved_path + 'df_projs.csv')\n",
    "df_tables = pd.read_csv(saved_path + 'df_tables.csv')\n",
    "df_tables_stat = pd.read_csv(saved_path + 'df_tables_stat.csv')\n",
    "max_data = df_tables[df_tables['table'].isin(df_tables_stat.sort_values(by='max', ascending=False)['table'][:20].values)]\n",
    "moy_data = df_tables[df_tables['table'].isin(df_tables_stat.sort_values(by='moy', ascending=False)['table'][:20].values)]"
   ]
  },
  {
   "cell_type": "code",
   "execution_count": null,
   "metadata": {},
   "outputs": [],
   "source": [
    "projs_table = df_projs[df_projs['proj'].str.contains('fr.infologic.comptabilite.ecriture.modele.justifclient.refcompte')]['proj'].unique()\n",
    "print(projs_table)\n",
    "projs = df_projs[df_projs['proj'].isin(projs_table)]"
   ]
  },
  {
   "cell_type": "code",
   "execution_count": null,
   "metadata": {},
   "outputs": [],
   "source": [
    "g = sns.boxplot(x=\"proj\", y=\"durationMS\", palette=\"husl\", data = projs)\n",
    "g.set_xticklabels(g.get_xticklabels(),rotation=90)\n",
    "g.set_yscale(\"log\")"
   ]
  },
  {
   "cell_type": "code",
   "execution_count": null,
   "metadata": {},
   "outputs": [],
   "source": [
    "projs_table = df_projs[df_projs['proj'].str.contains('fr.infologic.ventes.commandesfactures.modele.cdeligaprep.cdelig')]['proj'].unique()\n",
    "print(projs_table)\n",
    "projs = df_projs[df_projs['proj'].isin(projs_table)]"
   ]
  },
  {
   "cell_type": "code",
   "execution_count": null,
   "metadata": {},
   "outputs": [],
   "source": [
    "g = sns.boxplot(x=\"proj\", y=\"durationMS\", palette=\"husl\", data = projs)\n",
    "g.set_xticklabels(g.get_xticklabels(),rotation=90)\n",
    "g.set_yscale(\"log\")"
   ]
  }
 ],
 "metadata": {
  "kernelspec": {
   "display_name": "Python 3",
   "language": "python",
   "name": "python3"
  },
  "language_info": {
   "codemirror_mode": {
    "name": "ipython",
    "version": 3
   },
   "file_extension": ".py",
   "mimetype": "text/x-python",
   "name": "python",
   "nbconvert_exporter": "python",
   "pygments_lexer": "ipython3",
   "version": "3.8.5"
  }
 },
 "nbformat": 4,
 "nbformat_minor": 4
}
