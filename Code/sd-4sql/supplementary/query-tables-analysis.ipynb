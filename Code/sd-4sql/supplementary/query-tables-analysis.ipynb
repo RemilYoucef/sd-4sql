{
 "cells": [
  {
   "cell_type": "code",
   "execution_count": null,
   "metadata": {},
   "outputs": [],
   "source": [
    "import os\n",
    "import sys\n",
    "import numpy as np\n",
    "import pandas as pd\n",
    "import itertools\n",
    "from collections import Counter\n",
    "from scipy.stats import gaussian_kde\n",
    "from moz_sql_parser import parse\n",
    "sys.setrecursionlimit(3000)\n",
    "import pickle"
   ]
  },
  {
   "cell_type": "code",
   "execution_count": null,
   "metadata": {},
   "outputs": [],
   "source": [
    "saved_path = os.path.join(os.path.dirname(os.getcwd()), 'Saved Data\\\\')"
   ]
  },
  {
   "cell_type": "code",
   "execution_count": null,
   "metadata": {},
   "outputs": [],
   "source": [
    "import matplotlib.pyplot as plt\n",
    "import matplotlib\n",
    "import seaborn as sns\n",
    "sns.set(color_codes=True)\n",
    "%matplotlib inline\n",
    "plt.rcParams[\"figure.figsize\"] = [16, 6]"
   ]
  },
  {
   "cell_type": "code",
   "execution_count": null,
   "metadata": {},
   "outputs": [],
   "source": [
    "import warnings\n",
    "warnings.filterwarnings(\"ignore\")\n",
    "from matplotlib.axes._axes import _log as matplotlib_axes_logger\n",
    "matplotlib_axes_logger.setLevel('ERROR')"
   ]
  },
  {
   "cell_type": "code",
   "execution_count": null,
   "metadata": {},
   "outputs": [],
   "source": [
    "with open('req_tables.pickle', 'rb') as handle:\n",
    "    dict_req_tables = pickle.load(handle)"
   ]
  },
  {
   "cell_type": "code",
   "execution_count": null,
   "metadata": {},
   "outputs": [],
   "source": [
    "list_all_tables = []\n",
    "for table in list(dict_req_tables.values()) :\n",
    "    list_all_tables = list_all_tables + table "
   ]
  },
  {
   "cell_type": "code",
   "execution_count": null,
   "metadata": {},
   "outputs": [],
   "source": [
    "print('The number of unique tables is : ',len(set(list_all_tables)))"
   ]
  },
  {
   "cell_type": "code",
   "execution_count": null,
   "metadata": {},
   "outputs": [],
   "source": [
    "'Frequency of tables on unique queries'\n",
    "counts = Counter(list_all_tables)\n",
    "counts = sorted(counts.items(), key = lambda x: x[1], reverse=True)\n",
    "counts"
   ]
  },
  {
   "cell_type": "code",
   "execution_count": null,
   "metadata": {},
   "outputs": [],
   "source": [
    "df_tables = pd.read_csv(saved_path + 'df_tables.csv', index_col=[0])\n",
    "df_tables.head(5)"
   ]
  },
  {
   "cell_type": "code",
   "execution_count": null,
   "metadata": {},
   "outputs": [],
   "source": [
    "top_tables = df_tables['table'].value_counts()[:50]\n",
    "top_tables"
   ]
  },
  {
   "cell_type": "code",
   "execution_count": null,
   "metadata": {},
   "outputs": [],
   "source": [
    "df = df_tables[df_tables['table'].isin(top_tables.index)]\n",
    "g = sns.catplot(x=\"table\", y=\"durationMS\",jitter=False ,data=df,size = 12)\n",
    "g.set_xticklabels(rotation=90)"
   ]
  },
  {
   "cell_type": "code",
   "execution_count": null,
   "metadata": {},
   "outputs": [],
   "source": [
    "top_times = 250\n",
    "rest_times = df_tables.shape[0] - top_times\n",
    "\n",
    "data = df_tables.sort_values(by=['durationMS'],ascending = False)[:top_times]\n",
    "data['table'].value_counts()"
   ]
  },
  {
   "cell_type": "code",
   "execution_count": null,
   "metadata": {},
   "outputs": [],
   "source": [
    "rest_times"
   ]
  },
  {
   "cell_type": "code",
   "execution_count": null,
   "metadata": {},
   "outputs": [],
   "source": [
    "g = sns.boxplot(x=\"table\", y=\"durationMS\", palette=\"husl\", data=data)\n",
    "g.set_xticklabels(g.get_xticklabels(),rotation=90)\n",
    "g.set_yscale(\"log\")"
   ]
  },
  {
   "cell_type": "code",
   "execution_count": null,
   "metadata": {},
   "outputs": [],
   "source": [
    "_data = df_tables[df_tables['table'].isin(data['table'].value_counts().index)]\n",
    "_data['table'].value_counts()"
   ]
  },
  {
   "cell_type": "code",
   "execution_count": null,
   "metadata": {},
   "outputs": [],
   "source": [
    "g = sns.boxplot(x=\"table\", y=\"durationMS\", palette=\"husl\", data=_data)\n",
    "g.set_xticklabels(g.get_xticklabels(),rotation=90)\n",
    "g.set_yscale(\"log\")"
   ]
  },
  {
   "cell_type": "code",
   "execution_count": null,
   "metadata": {},
   "outputs": [],
   "source": [
    "df_ratio = pd.DataFrame(data = pd.concat([data['table'].value_counts(), _data['table'].value_counts()], axis=1).values,\n",
    "                        columns= ['top','rest'])\n",
    "df_ratio = df_ratio.set_index(pd.concat([data['table'].value_counts(), _data['table'].value_counts()], axis=1).index)\n",
    "\n",
    "df_ratio['rest'] = (df_ratio['rest'] - df_ratio['top']) / (rest_times - (df_ratio['rest'] - df_ratio['top']))\n",
    "df_ratio['top'] = df_ratio['top'] / (top_times - df_ratio['top'])\n",
    "df_ratio['ratio'] = df_ratio['top'] / df_ratio['rest']\n",
    "df_ratio.sort_values(by='ratio', ascending=False)"
   ]
  },
  {
   "cell_type": "code",
   "execution_count": null,
   "metadata": {},
   "outputs": [],
   "source": [
    "sns.FacetGrid(data, hue=\"table\", palette=\"husl\", size=10).map(sns.kdeplot, \"durationMS\").add_legend().set(yscale = 'log')"
   ]
  },
  {
   "cell_type": "code",
   "execution_count": null,
   "metadata": {},
   "outputs": [],
   "source": [
    "df_tables_stat = pd.read_csv(saved_path + 'df_tables_stat.csv')"
   ]
  },
  {
   "cell_type": "code",
   "execution_count": null,
   "metadata": {},
   "outputs": [],
   "source": [
    "df_tables_stat"
   ]
  },
  {
   "cell_type": "code",
   "execution_count": null,
   "metadata": {},
   "outputs": [],
   "source": [
    "df_tables_stat.sort_values(by='moy', ascending=False)['table'][:20].values"
   ]
  },
  {
   "cell_type": "code",
   "execution_count": null,
   "metadata": {},
   "outputs": [],
   "source": [
    "moy_data = df_tables[df_tables['table'].isin(df_tables_stat.sort_values(by='moy', ascending=False)['table'][:20].values)]\n",
    "moy_data['table'].value_counts()"
   ]
  }
 ],
 "metadata": {
  "kernelspec": {
   "display_name": "Python 3",
   "language": "python",
   "name": "python3"
  },
  "language_info": {
   "codemirror_mode": {
    "name": "ipython",
    "version": 3
   },
   "file_extension": ".py",
   "mimetype": "text/x-python",
   "name": "python",
   "nbconvert_exporter": "python",
   "pygments_lexer": "ipython3",
   "version": "3.8.5"
  }
 },
 "nbformat": 4,
 "nbformat_minor": 4
}
